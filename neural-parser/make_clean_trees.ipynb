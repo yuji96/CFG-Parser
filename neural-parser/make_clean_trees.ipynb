{
 "cells": [
  {
   "cell_type": "markdown",
   "id": "dcf289a7-f118-4caa-852b-21568db8b043",
   "metadata": {},
   "source": [
    "# utils"
   ]
  },
  {
   "cell_type": "code",
   "execution_count": 1,
   "id": "fca33045-bc28-4ae6-9a20-3b5fb7ca1f3c",
   "metadata": {},
   "outputs": [],
   "source": [
    "from nltk import Tree\n",
    "from tqdm.auto import tqdm\n",
    "\n",
    "def progress(iter_, verbose, **kwargs):\n",
    "    if not verbose:\n",
    "        return iter_\n",
    "    return tqdm(iter_, **kwargs)\n",
    "\n",
    "def is_terminal(tree: Tree):\n",
    "    return isinstance(tree[0], str)\n",
    "\n",
    "def is_preterminal(tree: Tree):\n",
    "    return isinstance(tree[0], str)\n",
    "\n",
    "def convert_index(i, j, n):\n",
    "    \"\"\"tuple to combination's index\"\"\"\n",
    "    assert 0 <= i < j <= n\n",
    "    return int(i * (n + (n - i - 1)) / 2 + j - 1)"
   ]
  },
  {
   "cell_type": "markdown",
   "id": "e2475a2d-bdc5-469e-ac3b-921bd899ec82",
   "metadata": {},
   "source": [
    "# processing pure tree"
   ]
  },
  {
   "cell_type": "markdown",
   "id": "c66254c8-ac9e-440f-9ef1-1683db5a330f",
   "metadata": {},
   "source": [
    "## read trees"
   ]
  },
  {
   "cell_type": "code",
   "execution_count": 2,
   "id": "7483868f-7c1a-40c5-bd6f-4bb0a8521140",
   "metadata": {},
   "outputs": [],
   "source": [
    "from pathlib import Path\n",
    "import re\n",
    "\n",
    "from nltk.corpus import BracketParseCorpusReader\n",
    "\n",
    "\n",
    "def read_parsed_corpus(root, dir_numbers, max_len, verbose=True, with_path=False):\n",
    "    dir_numbers = [str(num).zfill(2) for num in dir_numbers]\n",
    "    reader = BracketParseCorpusReader(root, r\"wsj_.*\\.mrg\", tagset=\"wsj\")\n",
    "    for childdir in progress(sorted(Path(root).iterdir()), verbose):\n",
    "        if childdir.name not in dir_numbers:\n",
    "            continue\n",
    "\n",
    "        for path in sorted(childdir.glob(\"wsj_*.mrg\")):\n",
    "            for tree in reader.parsed_sents(f\"{childdir.name}/{path.name}\"):\n",
    "                if len(tree.leaves()) > max_len:\n",
    "                    continue\n",
    "\n",
    "                if with_path:\n",
    "                    yield path, tree\n",
    "                else:\n",
    "                    yield tree"
   ]
  },
  {
   "cell_type": "code",
   "execution_count": 3,
   "id": "b4a91e93-850b-4966-848b-01e1501c0101",
   "metadata": {},
   "outputs": [
    {
     "data": {
      "application/vnd.jupyter.widget-view+json": {
       "model_id": "1b8ccbd9bfb54cb1a8867891b214f8d1",
       "version_major": 2,
       "version_minor": 0
      },
      "text/plain": [
       "HBox(children=(HTML(value=''), FloatProgress(value=0.0, max=26.0), HTML(value='')))"
      ]
     },
     "metadata": {},
     "output_type": "display_data"
    },
    {
     "name": "stdout",
     "output_type": "stream",
     "text": [
      "\n"
     ]
    },
    {
     "data": {
      "application/vnd.jupyter.widget-view+json": {
       "model_id": "43225547636241ac8b9eb23ee1d510c5",
       "version_major": 2,
       "version_minor": 0
      },
      "text/plain": [
       "HBox(children=(HTML(value=''), FloatProgress(value=0.0, max=26.0), HTML(value='')))"
      ]
     },
     "metadata": {},
     "output_type": "display_data"
    },
    {
     "name": "stdout",
     "output_type": "stream",
     "text": [
      "\n"
     ]
    },
    {
     "data": {
      "application/vnd.jupyter.widget-view+json": {
       "model_id": "31878f5980ac4dc089098f6ace318972",
       "version_major": 2,
       "version_minor": 0
      },
      "text/plain": [
       "HBox(children=(HTML(value=''), FloatProgress(value=0.0, max=26.0), HTML(value='')))"
      ]
     },
     "metadata": {},
     "output_type": "display_data"
    },
    {
     "name": "stdout",
     "output_type": "stream",
     "text": [
      "\n"
     ]
    }
   ],
   "source": [
    "MAX_LEN = 40\n",
    "\n",
    "raw_train = list(read_parsed_corpus(\"/home/corpus/PTB3/treebank_3/parsed/mrg/wsj\", range(2, 21+1), MAX_LEN))\n",
    "raw_valid = list(read_parsed_corpus(\"/home/corpus/PTB3/treebank_3/parsed/mrg/wsj\", [22], MAX_LEN))\n",
    "raw_test = list(read_parsed_corpus(\"/home/corpus/PTB3/treebank_3/parsed/mrg/wsj\", [23], MAX_LEN))"
   ]
  },
  {
   "cell_type": "markdown",
   "id": "cba5beaa-d4a4-4c4f-8cc8-0e95e0841a6e",
   "metadata": {},
   "source": [
    "## make chomsky "
   ]
  },
  {
   "cell_type": "code",
   "execution_count": 4,
   "id": "45fc2e7d-9b4b-4984-977d-ea4b64300e26",
   "metadata": {},
   "outputs": [],
   "source": [
    "def clean(tree: Tree):\n",
    "    tree = trim_info(tree)\n",
    "    tree.chomsky_normal_form(vertMarkov=0, horzMarkov=0)\n",
    "    tree = replace_dummy_label(tree)\n",
    "    tree.collapse_unary(collapsePOS=True, collapseRoot=True)\n",
    "    return tree\n",
    "\n",
    "\n",
    "def trim_info(tree: Tree) -> Tree:\n",
    "    if is_preterminal(tree):\n",
    "        return tree\n",
    "\n",
    "    new_children = []\n",
    "    for subtree in tree:\n",
    "        label = subtree.label()\n",
    "        if label[0] == label[-1] == \"-\":\n",
    "            continue\n",
    "\n",
    "        label, *_ = re.split('-|=', label, 2)\n",
    "        new_children.append(Tree(label, subtree))\n",
    "\n",
    "    new_children = [trim_info(child) for child in new_children if child]\n",
    "    new_children = [child for child in new_children if child]\n",
    "    if len(new_children) == 0:\n",
    "        return None\n",
    "\n",
    "    label, *_ = re.split('-|=', tree.label(), 2)\n",
    "    return Tree(label, new_children)\n",
    "\n",
    "\n",
    "def replace_dummy_label(tree: Tree, dummy_label=\"DUMMY\"):\n",
    "    if is_preterminal(tree):\n",
    "        return tree\n",
    "    label = dummy_label if \"|\" in tree.label() else tree.label()\n",
    "    return Tree(label, [replace_dummy_label(child) for child in tree])"
   ]
  },
  {
   "cell_type": "code",
   "execution_count": 5,
   "id": "1f3cce08-5aab-4c64-a540-8fba14f702a3",
   "metadata": {},
   "outputs": [
    {
     "data": {
      "application/vnd.jupyter.widget-view+json": {
       "model_id": "8e12d7ee53ff4ee9a691c1429802a6db",
       "version_major": 2,
       "version_minor": 0
      },
      "text/plain": [
       "HBox(children=(HTML(value=''), FloatProgress(value=0.0, max=35475.0), HTML(value='')))"
      ]
     },
     "metadata": {},
     "output_type": "display_data"
    },
    {
     "name": "stdout",
     "output_type": "stream",
     "text": [
      "\n"
     ]
    },
    {
     "data": {
      "application/vnd.jupyter.widget-view+json": {
       "model_id": "076e1b223f6f427ba18a1f0cfc047476",
       "version_major": 2,
       "version_minor": 0
      },
      "text/plain": [
       "HBox(children=(HTML(value=''), FloatProgress(value=0.0, max=1525.0), HTML(value='')))"
      ]
     },
     "metadata": {},
     "output_type": "display_data"
    },
    {
     "name": "stdout",
     "output_type": "stream",
     "text": [
      "\n"
     ]
    },
    {
     "data": {
      "application/vnd.jupyter.widget-view+json": {
       "model_id": "b5e5e382c4bc44c5afdfc515ec3ee703",
       "version_major": 2,
       "version_minor": 0
      },
      "text/plain": [
       "HBox(children=(HTML(value=''), FloatProgress(value=0.0, max=2160.0), HTML(value='')))"
      ]
     },
     "metadata": {},
     "output_type": "display_data"
    },
    {
     "name": "stdout",
     "output_type": "stream",
     "text": [
      "\n"
     ]
    }
   ],
   "source": [
    "train = [clean(tree) for tree in tqdm(raw_train)]\n",
    "valid = [clean(tree) for tree in tqdm(raw_valid)]\n",
    "test = [clean(tree) for tree in tqdm(raw_test)]"
   ]
  },
  {
   "cell_type": "markdown",
   "id": "2aa4cfc8-cbb3-4ef8-b3dd-f236941fd224",
   "metadata": {},
   "source": [
    "## save"
   ]
  },
  {
   "cell_type": "code",
   "execution_count": 6,
   "id": "87e83da9-cb5e-4c2f-b133-c7869cafa683",
   "metadata": {},
   "outputs": [
    {
     "data": {
      "application/vnd.jupyter.widget-view+json": {
       "model_id": "79eb5ea5f5764081bdea2cff5cfdf630",
       "version_major": 2,
       "version_minor": 0
      },
      "text/plain": [
       "HBox(children=(HTML(value=''), FloatProgress(value=0.0, max=35475.0), HTML(value='')))"
      ]
     },
     "metadata": {},
     "output_type": "display_data"
    },
    {
     "name": "stdout",
     "output_type": "stream",
     "text": [
      "\n"
     ]
    },
    {
     "data": {
      "application/vnd.jupyter.widget-view+json": {
       "model_id": "465d28540694404aa6b251477e98be27",
       "version_major": 2,
       "version_minor": 0
      },
      "text/plain": [
       "HBox(children=(HTML(value=''), FloatProgress(value=0.0, max=1525.0), HTML(value='')))"
      ]
     },
     "metadata": {},
     "output_type": "display_data"
    },
    {
     "name": "stdout",
     "output_type": "stream",
     "text": [
      "\n"
     ]
    },
    {
     "data": {
      "application/vnd.jupyter.widget-view+json": {
       "model_id": "cab59463952a426b974aa35ae97df7d8",
       "version_major": 2,
       "version_minor": 0
      },
      "text/plain": [
       "HBox(children=(HTML(value=''), FloatProgress(value=0.0, max=2160.0), HTML(value='')))"
      ]
     },
     "metadata": {},
     "output_type": "display_data"
    },
    {
     "name": "stdout",
     "output_type": "stream",
     "text": [
      "\n"
     ]
    }
   ],
   "source": [
    "from pathlib import Path\n",
    "\n",
    "def save(trees, path):\n",
    "    Path(f\"data/{path}\").write_text(\n",
    "        \"\\n\".join([tree.pformat(float(\"inf\")) for tree in tqdm(trees)]))\n",
    "\n",
    "Path(\"data\").mkdir(exist_ok=True)\n",
    "save(train, \"train\")\n",
    "save(valid, \"valid\")\n",
    "save(test, \"test\")"
   ]
  },
  {
   "cell_type": "code",
   "execution_count": 10,
   "id": "a8accbac-6321-44d4-81d5-37729ec0e19b",
   "metadata": {},
   "outputs": [
    {
     "name": "stdout",
     "output_type": "stream",
     "text": [
      "259M\tdata\n"
     ]
    }
   ],
   "source": [
    "!du -sh data"
   ]
  },
  {
   "cell_type": "markdown",
   "id": "066e0e6c-7959-4caa-ba08-c458f98f19a4",
   "metadata": {},
   "source": [
    "# label → index"
   ]
  },
  {
   "cell_type": "markdown",
   "id": "1b58db3a-5193-4d48-a6ae-1c2799dd7f4f",
   "metadata": {},
   "source": [
    "## stats label"
   ]
  },
  {
   "cell_type": "code",
   "execution_count": 11,
   "id": "81db1e31-2a8c-4f0a-9380-bc839f8429f7",
   "metadata": {},
   "outputs": [],
   "source": [
    "from collections import defaultdict\n",
    "from nltk import Tree\n",
    "\n",
    "def get_all_label(trees: list[Tree]):\n",
    "    counter = defaultdict(int)\n",
    "\n",
    "    for tree in tqdm(trees):\n",
    "        for rule in tree.productions():\n",
    "            if rule.is_lexical():\n",
    "                continue\n",
    "\n",
    "            for label in [rule.lhs(), *rule.rhs()]:\n",
    "                counter[str(label)] += 1\n",
    "    return counter"
   ]
  },
  {
   "cell_type": "code",
   "execution_count": 12,
   "id": "dcb518bd-da3c-4480-be8d-842c22c5c969",
   "metadata": {},
   "outputs": [
    {
     "data": {
      "application/vnd.jupyter.widget-view+json": {
       "model_id": "6611db8627de4a28b71d9d38e9dc09ee",
       "version_major": 2,
       "version_minor": 0
      },
      "text/plain": [
       "HBox(children=(HTML(value=''), FloatProgress(value=0.0, max=39160.0), HTML(value='')))"
      ]
     },
     "metadata": {},
     "output_type": "display_data"
    },
    {
     "name": "stdout",
     "output_type": "stream",
     "text": [
      "\n"
     ]
    }
   ],
   "source": [
    "trees = train + valid + test\n",
    "counter = get_all_label(trees)"
   ]
  },
  {
   "cell_type": "code",
   "execution_count": 13,
   "id": "901c90ef-dcd8-479b-818e-399cc3dadfda",
   "metadata": {},
   "outputs": [],
   "source": [
    "import pandas as pd\n",
    "\n",
    "labels, counts = zip(*counter.items())\n",
    "dist = pd.DataFrame({\"count\": counts}, index=labels).sort_values(\"count\", ascending=False)"
   ]
  },
  {
   "cell_type": "code",
   "execution_count": 14,
   "id": "193b1ce4-d713-4732-95a0-cc55bd4d3821",
   "metadata": {},
   "outputs": [
    {
     "name": "stdout",
     "output_type": "stream",
     "text": [
      "ラベル全種類数: 394\n",
      "10 個以上のラベル: 195\n",
      "累計確率が 99 %になるまでのラベル: 57\n",
      "累計確率が 99.9 %になるまでのラベル: 121\n"
     ]
    }
   ],
   "source": [
    "all_count = dist[\"count\"].sum()\n",
    "dist[\"proba\"] = dist[\"count\"] / all_count \n",
    "dist[\"cdf\"] = dist[\"proba\"].cumsum()\n",
    "\n",
    "print(\"ラベル全種類数:\", len(dist))\n",
    "print(\"10 個以上のラベル:\", len(dist.query(\"count >= 10\")))\n",
    "print(\"累計確率が 99 %になるまでのラベル:\", len(dist.query(\"cdf <= .99\")))\n",
    "print(\"累計確率が 99.9 %になるまでのラベル:\", len(dist.query(\"cdf <= .999\")))"
   ]
  },
  {
   "cell_type": "code",
   "execution_count": 15,
   "id": "28cab34e-f15d-4126-b045-b3ea00f25f3d",
   "metadata": {},
   "outputs": [],
   "source": [
    "LABEL_COUNTS = 60"
   ]
  },
  {
   "cell_type": "code",
   "execution_count": 16,
   "id": "3511e6a5-a5c9-4381-ac08-5035b76aa25b",
   "metadata": {},
   "outputs": [],
   "source": [
    "min_labels = list(dist.index[:LABEL_COUNTS])\n",
    "index = range(LABEL_COUNTS)\n",
    "\n",
    "index2label = dict(zip(range(LABEL_COUNTS), min_labels))\n",
    "label2index = dict(zip(min_labels, range(LABEL_COUNTS)))"
   ]
  },
  {
   "cell_type": "code",
   "execution_count": 17,
   "id": "d7fc9daa-ee7c-48db-b981-d3c6534ac1f9",
   "metadata": {},
   "outputs": [],
   "source": [
    "import json\n",
    "\n",
    "with open(\"data/index2label.json\", \"w\") as f:\n",
    "    json.dump(index2label, f)\n",
    "\n",
    "with open(\"data/label2index.json\", \"w\") as f:\n",
    "    json.dump(label2index, f)"
   ]
  },
  {
   "cell_type": "markdown",
   "id": "4a6537b3-6928-425b-aad7-0543e6fbf093",
   "metadata": {},
   "source": [
    "# processing chart"
   ]
  },
  {
   "cell_type": "markdown",
   "id": "d7821674-6688-41d2-92a4-2f3d99299fbb",
   "metadata": {},
   "source": [
    "## convert chart"
   ]
  },
  {
   "cell_type": "code",
   "execution_count": 18,
   "id": "366f9657-1792-49f5-9784-50b899c10478",
   "metadata": {},
   "outputs": [],
   "source": [
    "import torch\n",
    "\n",
    "\n",
    "def tree2chart(tree, max_len=MAX_LEN, empty_label=\"EMPTY\", oneline=True):\n",
    "    chart = [[empty_label for _ in range(max_len+1)] for _ in range(max_len+1)]\n",
    "\n",
    "    def return_index(tree: Tree, position=0) -> tuple[int, int]:\n",
    "        if is_preterminal(tree):\n",
    "            left = position\n",
    "            right = position + 1\n",
    "            try:\n",
    "                chart[left][right] = tree.label()\n",
    "            except Exception as e:\n",
    "                print(tree)\n",
    "                print(left, right, tree.label())\n",
    "                raise e\n",
    "            return left, right\n",
    "\n",
    "        try:\n",
    "            left_tree, right_tree = tree\n",
    "        except ValueError:\n",
    "            raise ValueError(\"this tree is not chomsky.\")\n",
    "        left, position = return_index(left_tree, position)\n",
    "        _, right = return_index(right_tree, position)\n",
    "\n",
    "        chart[left][right] = tree.label()\n",
    "\n",
    "        return left, right\n",
    "\n",
    "    return_index(tree)\n",
    "    if oneline:\n",
    "        return chart2oneline(chart)\n",
    "    else:\n",
    "        return chart\n",
    "\n",
    "\n",
    "def chart2oneline(chart, max_len=MAX_LEN):\n",
    "    oneline = []\n",
    "    for i, row in enumerate(chart, 1):\n",
    "        # if i < max_len:\n",
    "        oneline.extend(row[i:])\n",
    "    return oneline\n",
    "\n",
    "\n",
    "def charts_as_tensor(trees):\n",
    "    charts = []\n",
    "    for tree in tqdm(trees):\n",
    "        charts.append([label2index.get(label, -1) for label in tree2chart(tree)])\n",
    "    return torch.tensor(charts, requires_grad=False)"
   ]
  },
  {
   "cell_type": "code",
   "execution_count": 19,
   "id": "4eace39b-ceb0-4467-9778-bd6efe91b9d1",
   "metadata": {},
   "outputs": [
    {
     "data": {
      "application/vnd.jupyter.widget-view+json": {
       "model_id": "469876df395e4e19ab8391f2e82e06e4",
       "version_major": 2,
       "version_minor": 0
      },
      "text/plain": [
       "HBox(children=(HTML(value=''), FloatProgress(value=0.0, max=35475.0), HTML(value='')))"
      ]
     },
     "metadata": {},
     "output_type": "display_data"
    },
    {
     "name": "stdout",
     "output_type": "stream",
     "text": [
      "\n"
     ]
    },
    {
     "data": {
      "application/vnd.jupyter.widget-view+json": {
       "model_id": "2a316c8c546d4863abf6558de1a5dbe2",
       "version_major": 2,
       "version_minor": 0
      },
      "text/plain": [
       "HBox(children=(HTML(value=''), FloatProgress(value=0.0, max=1525.0), HTML(value='')))"
      ]
     },
     "metadata": {},
     "output_type": "display_data"
    },
    {
     "name": "stdout",
     "output_type": "stream",
     "text": [
      "\n"
     ]
    },
    {
     "data": {
      "application/vnd.jupyter.widget-view+json": {
       "model_id": "62116dae54c8444080bdac589a423adf",
       "version_major": 2,
       "version_minor": 0
      },
      "text/plain": [
       "HBox(children=(HTML(value=''), FloatProgress(value=0.0, max=2160.0), HTML(value='')))"
      ]
     },
     "metadata": {},
     "output_type": "display_data"
    },
    {
     "name": "stdout",
     "output_type": "stream",
     "text": [
      "\n"
     ]
    }
   ],
   "source": [
    "train_chart = charts_as_tensor(train)\n",
    "valid_chart = charts_as_tensor(valid)\n",
    "test_chart = charts_as_tensor(test)"
   ]
  },
  {
   "cell_type": "code",
   "execution_count": 20,
   "id": "0745f6da-5f01-46e0-a65c-33b7d5cb10b8",
   "metadata": {},
   "outputs": [
    {
     "data": {
      "text/plain": [
       "torch.Size([2160, 820])"
      ]
     },
     "execution_count": 20,
     "metadata": {},
     "output_type": "execute_result"
    }
   ],
   "source": [
    "test_chart.shape"
   ]
  },
  {
   "cell_type": "code",
   "execution_count": 23,
   "id": "78663111-07e1-491e-888a-d2ce7f60540d",
   "metadata": {},
   "outputs": [],
   "source": [
    "torch.save(train_chart, \"data/train_chart.pt\")\n",
    "torch.save(valid_chart, \"data/valid_chart.pt\")\n",
    "torch.save(test_chart, \"data/test_chart.pt\")"
   ]
  },
  {
   "cell_type": "code",
   "execution_count": 24,
   "id": "8d03b58d-9062-4ed1-9297-21bc8ab4ef97",
   "metadata": {},
   "outputs": [
    {
     "name": "stdout",
     "output_type": "stream",
     "text": [
      "260M\tdata\n"
     ]
    }
   ],
   "source": [
    "!du -sh data"
   ]
  },
  {
   "cell_type": "code",
   "execution_count": 237,
   "id": "f67a4f9a-b876-48a2-98c6-704674d9035e",
   "metadata": {},
   "outputs": [
    {
     "data": {
      "text/plain": [
       "tensor([[-1, -1, -1,  ..., -1, -1, -1],\n",
       "        [ 7, -1, -1,  ..., -1, -1, -1],\n",
       "        [ 7, -1, -1,  ..., -1, -1, -1],\n",
       "        ...,\n",
       "        [ 8,  1, -1,  ..., -1, -1, -1],\n",
       "        [ 7, -1,  1,  ..., -1, -1, -1],\n",
       "        [-1, -1, -1,  ..., -1, -1, -1]])"
      ]
     },
     "execution_count": 237,
     "metadata": {},
     "output_type": "execute_result"
    }
   ],
   "source": [
    "tmp = torch.load(\"data/test_chart.pt\")\n",
    "tmp"
   ]
  },
  {
   "cell_type": "code",
   "execution_count": null,
   "id": "2df3233d-c718-46fb-9276-53749973949f",
   "metadata": {},
   "outputs": [],
   "source": []
  }
 ],
 "metadata": {
  "kernelspec": {
   "display_name": "Python 3.9",
   "language": "python",
   "name": "python3.9"
  },
  "language_info": {
   "codemirror_mode": {
    "name": "ipython",
    "version": 3
   },
   "file_extension": ".py",
   "mimetype": "text/x-python",
   "name": "python",
   "nbconvert_exporter": "python",
   "pygments_lexer": "ipython3",
   "version": "3.9.7"
  },
  "toc-autonumbering": true
 },
 "nbformat": 4,
 "nbformat_minor": 5
}
