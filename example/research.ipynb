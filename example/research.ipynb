{
 "cells": [
  {
   "cell_type": "code",
   "execution_count": 1,
   "metadata": {},
   "outputs": [],
   "source": [
    "import sys\n",
    "sys.path.append(\"..\")\n",
    "\n",
    "import pickle\n",
    "from pathlib import Path\n",
    "from random import choice\n",
    "\n",
    "from cky import CKY\n",
    "from reader import read_cleaned_corpus"
   ]
  },
  {
   "cell_type": "code",
   "execution_count": 2,
   "metadata": {},
   "outputs": [],
   "source": [
    "lexical_dict = pickle.loads(Path(\"../stats/lexical_dict.pkl\").read_bytes())\n",
    "syntax_dict = pickle.loads(Path(\"../stats/syntax_dict.pkl\").read_bytes())\n",
    "unary_dict = pickle.loads(Path(\"../stats/unary_dict.pkl\").read_bytes())"
   ]
  },
  {
   "cell_type": "code",
   "execution_count": null,
   "metadata": {},
   "outputs": [],
   "source": [
    "from nltk.tree.prettyprinter import TreePrettyPrinter\n",
    "from evaluate import evaluate\n",
    "\n",
    "def pretty_tree(tree):\n",
    "    return TreePrettyPrinter(tree).text()"
   ]
  },
  {
   "cell_type": "code",
   "execution_count": 19,
   "metadata": {},
   "outputs": [
    {
     "name": "stdout",
     "output_type": "stream",
     "text": [
      "  Sent.                        Matched  Bracket   Cross        Correct Tag\n",
      " ID  Len.  Stat. Recal  Prec.  Bracket gold test Bracket Words  Tags Accracy\n",
      "============================================================================\n",
      "   1   17    0   40.00  35.29     6     15   17      6     17    16    94.12\n",
      "============================================================================\n",
      "                 40.00  35.29      6    15    17      6     17    16    94.12\n",
      "=== Summary ===\n",
      "\n",
      "-- All --\n",
      "Number of sentence        =      1\n",
      "Number of Error sentence  =      0\n",
      "Number of Skip  sentence  =      0\n",
      "Number of Valid sentence  =      1\n",
      "Bracketing Recall         =  40.00\n",
      "Bracketing Precision      =  35.29\n",
      "Bracketing FMeasure       =  37.50\n",
      "Complete match            =   0.00\n",
      "Average crossing          =   6.00\n",
      "No crossing               =   0.00\n",
      "2 or less crossing        =   0.00\n",
      "Tagging accuracy          =  94.12\n",
      "\n",
      "-- len<=40 --\n",
      "Number of sentence        =      1\n",
      "Number of Error sentence  =      0\n",
      "Number of Skip  sentence  =      0\n",
      "Number of Valid sentence  =      1\n",
      "Bracketing Recall         =  40.00\n",
      "Bracketing Precision      =  35.29\n",
      "Bracketing FMeasure       =  37.50\n",
      "Complete match            =   0.00\n",
      "Average crossing          =   6.00\n",
      "No crossing               =   0.00\n",
      "2 or less crossing        =   0.00\n",
      "Tagging accuracy          =  94.12\n"
     ]
    }
   ],
   "source": [
    "gold = choice(read_cleaned_corpus(\"test\"))\n",
    "pred = CKY(gold.leaves(), lexical_dict, syntax_dict, unary_dict, beam=20)\n",
    "\n",
    "Path(\"../tmp/gold_tree.txt\").write_text(pretty_tree(gold))\n",
    "Path(\"../tmp/pred_tree.txt\").write_text(pretty_tree(pred))\n",
    "\n",
    "evaluate([gold], [pred])"
   ]
  },
  {
   "cell_type": "code",
   "execution_count": 20,
   "metadata": {},
   "outputs": [
    {
     "data": {
      "text/plain": [
       "241"
      ]
     },
     "execution_count": 20,
     "metadata": {},
     "output_type": "execute_result"
    }
   ],
   "source": [
    "Path(\"../data/tmp.clean\").write_text(gold.pformat(float(\"inf\")))"
   ]
  },
  {
   "cell_type": "code",
   "execution_count": null,
   "metadata": {},
   "outputs": [],
   "source": []
  }
 ],
 "metadata": {
  "interpreter": {
   "hash": "68d209595f243c2f471e257693e3717105e244b190c188ce6037d5af117571b2"
  },
  "kernelspec": {
   "display_name": "Python 3.9.6 64-bit ('3.9.6')",
   "language": "python",
   "name": "python3"
  },
  "language_info": {
   "codemirror_mode": {
    "name": "ipython",
    "version": 3
   },
   "file_extension": ".py",
   "mimetype": "text/x-python",
   "name": "python",
   "nbconvert_exporter": "python",
   "pygments_lexer": "ipython3",
   "version": "3.9.6"
  },
  "orig_nbformat": 4
 },
 "nbformat": 4,
 "nbformat_minor": 2
}
